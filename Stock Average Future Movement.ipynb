{
 "cells": [
  {
   "cell_type": "code",
   "execution_count": 1,
   "metadata": {},
   "outputs": [],
   "source": [
    "import datetime as dt\n",
    "import matplotlib.pyplot as plt\n",
    "from matplotlib import style\n",
    "import pandas as pd\n",
    "%matplotlib inline\n",
    "import matplotlib.dates as mdates\n",
    "import numpy as np\n",
    "\n",
    "from pandas_datareader import data as web\n",
    "\n"
   ]
  },
  {
   "cell_type": "markdown",
   "metadata": {},
   "source": [
    "### Stock Average Move"
   ]
  },
  {
   "cell_type": "code",
   "execution_count": 5,
   "metadata": {},
   "outputs": [],
   "source": [
    "def avg_percent_move(stock_ticker, small_percent, large_percent, days_into_future=1):\n",
    "    future_rows = []\n",
    "    style.use('ggplot')\n",
    "    start = dt.datetime(2010,1,1)\n",
    "    end = dt.datetime(2020,1,13)\n",
    "    df = web.DataReader(stock_ticker, 'yahoo', start, end)\n",
    "    df['percent_change'] = ((df['Close'] - df['Open']) / df['Open']) * 100\n",
    "    stock = df.reset_index()\n",
    "    stock_move = stock[(stock['percent_change'] >= small_percent) & (stock['percent_change'] <= large_percent)]\n",
    "    row_list = stock_move.index\n",
    "    for num in row_list:\n",
    "        for i in range(num + 1, num + 1 + days_into_future):\n",
    "            future_rows.append(i)\n",
    "    average_move = df.iloc[future_rows[:-days_into_future], :]['percent_change'].mean()\n",
    "    print(f'Ticker: {stock_ticker}, Percent Range between {small_percent} and {large_percent},  Average Following move  {round(average_move, 3)}, After {days_into_future} Days')"
   ]
  },
  {
   "cell_type": "code",
   "execution_count": 15,
   "metadata": {},
   "outputs": [
    {
     "name": "stdout",
     "output_type": "stream",
     "text": [
      "Ticker: aapl, Percent Range between 0.2 and 0.23,  Average Following move  0.15, After 8 Days\n"
     ]
    }
   ],
   "source": [
    "avg_percent_move('aapl', .2, .23, 8)"
   ]
  },
  {
   "cell_type": "code",
   "execution_count": null,
   "metadata": {},
   "outputs": [],
   "source": []
  }
 ],
 "metadata": {
  "kernelspec": {
   "display_name": "learn-env",
   "language": "python",
   "name": "learn-env"
  },
  "language_info": {
   "codemirror_mode": {
    "name": "ipython",
    "version": 3
   },
   "file_extension": ".py",
   "mimetype": "text/x-python",
   "name": "python",
   "nbconvert_exporter": "python",
   "pygments_lexer": "ipython3",
   "version": "3.7.3"
  }
 },
 "nbformat": 4,
 "nbformat_minor": 2
}
