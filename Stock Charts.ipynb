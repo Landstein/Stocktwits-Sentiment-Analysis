{
 "cells": [
  {
   "cell_type": "code",
   "execution_count": 55,
   "metadata": {},
   "outputs": [],
   "source": [
    "import numpy as np\n",
    "import pandas as pd\n",
    "import config\n",
    "\n",
    "import matplotlib.pyplot as plt\n",
    "#SQL\n",
    "import mysql.connector \n",
    "from mysql.connector import errorcode\n",
    "from sqlalchemy import create_engine"
   ]
  },
  {
   "cell_type": "code",
   "execution_count": 2,
   "metadata": {},
   "outputs": [],
   "source": [
    "def stock_analysis(sql_table):\n",
    "    cnx = mysql.connector.connect(\n",
    "        host = config.host,\n",
    "        user = config.user,\n",
    "        password = config.passwd,\n",
    "        database = config.db_name\n",
    "    )\n",
    "    cur = cnx.cursor()\n",
    "    cur.execute(f\"\"\"SELECT * FROM stocktwits.{sql_table};\"\"\")\n",
    "    df_sql = pd.DataFrame(cur.fetchall())\n",
    "    df_sql.columns = [x[0] for x in cur.description]\n",
    "    return df_sql"
   ]
  },
  {
   "cell_type": "code",
   "execution_count": 72,
   "metadata": {},
   "outputs": [],
   "source": [
    "apple = stock_analysis('aapl')"
   ]
  },
  {
   "cell_type": "code",
   "execution_count": 73,
   "metadata": {},
   "outputs": [],
   "source": [
    "def stock_chart(stock_df):\n",
    "    stock_df['close'] = stock_df['close'].shift(-1)\n",
    "    stock_df['percent_change'] = ((stock_df['close'] - stock_df['open']) / stock_df['open']) * 100\n",
    "    negetive = stock_df[(stock_df['sentiment'] < 0) & (stock_df['percent_change'] < 0)]  \n",
    "    positive = stock_df[(stock_df['sentiment'] > 0) & (stock_df['percent_change'] > 0)] \n",
    "    neutral_1 = stock_df[(stock_df['sentiment'] > 0) & (stock_df['percent_change'] < 0)] \n",
    "    neutral_2 = stock_df[(stock_df['sentiment'] < 0) & (stock_df['percent_change'] > 0)]\n",
    "    neutral = pd.concat([neutral_1, neutral_2])\n",
    "    \n",
    "    fig, ax = plt.subplots()\n",
    "    ax.scatter(positive['sentiment'], positive['percent_change'], label='Positive Correlation', color='g')\n",
    "    ax.scatter(negetive['sentiment'], negetive['percent_change'], label='Negetive Correlation', color='r')\n",
    "    ax.scatter(neutral['sentiment'], neutral['percent_change'], label='neutral', color='black')\n",
    "\n",
    "    ax.set_xlabel('Sentiment')\n",
    "    ax.set_ylabel('Price Change %')\n",
    "    ax.set_title('Sentiment vs Price Change ')\n",
    "\n",
    "    ax.legend()"
   ]
  },
  {
   "cell_type": "code",
   "execution_count": 74,
   "metadata": {},
   "outputs": [
    {
     "data": {
      "image/png": "[encoded data removed]",
      "text/plain": [
       "<Figure size 432x288 with 1 Axes>"
      ]
     },
     "metadata": {
      "needs_background": "light"
     },
     "output_type": "display_data"
    }
   ],
   "source": [
    "stock_chart(apple)"
   ]
  },
  {
   "cell_type": "code",
   "execution_count": null,
   "metadata": {},
   "outputs": [],
   "source": []
  }
 ],
 "metadata": {
  "kernelspec": {
   "display_name": "learn-env",
   "language": "python",
   "name": "learn-env"
  },
  "language_info": {
   "codemirror_mode": {
    "name": "ipython",
    "version": 3
   },
   "file_extension": ".py",
   "mimetype": "text/x-python",
   "name": "python",
   "nbconvert_exporter": "python",
   "pygments_lexer": "ipython3",
   "version": "3.7.3"
  }
 },
 "nbformat": 4,
 "nbformat_minor": 2
}
