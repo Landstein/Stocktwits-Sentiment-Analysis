{
 "cells": [
  {
   "cell_type": "markdown",
   "metadata": {},
   "source": [
    "## Sent Scrape Request / Bsoup"
   ]
  },
  {
   "cell_type": "code",
   "execution_count": 121,
   "metadata": {},
   "outputs": [],
   "source": [
    "import requests\n",
    "import pandas as pd"
   ]
  },
  {
   "cell_type": "code",
   "execution_count": 122,
   "metadata": {},
   "outputs": [],
   "source": [
    "st_tickers = pd.read_csv('2020-04-08.csv')"
   ]
  },
  {
   "cell_type": "code",
   "execution_count": 125,
   "metadata": {},
   "outputs": [],
   "source": [
    "st_ticker_list = st_tickers['AAC'].to_list()"
   ]
  },
  {
   "cell_type": "code",
   "execution_count": 127,
   "metadata": {},
   "outputs": [
    {
     "data": {
      "text/plain": [
       "['AAU',\n",
       " 'ABL',\n",
       " 'ACU',\n",
       " 'ACY',\n",
       " 'ADGI',\n",
       " 'ADK',\n",
       " 'AE',\n",
       " 'AEN',\n",
       " 'AEZ',\n",
       " 'AFT',\n",
       " 'AGT',\n",
       " 'AGX',\n",
       " 'AIM',\n",
       " 'HAIPF',\n",
       " 'AIS',\n",
       " 'AMS',\n",
       " 'ANO',\n",
       " 'ANV',\n",
       " 'SVRA',\n",
       " 'API',\n",
       " 'APO',\n",
       " 'APP',\n",
       " 'APT',\n",
       " 'APYI',\n",
       " 'AQQ',\n",
       " 'ATCV',\n",
       " 'AWX',\n",
       " 'AXK',\n",
       " 'AXU',\n",
       " 'AZC',\n",
       " 'AZK',\n",
       " 'BAA',\n",
       " 'BBH',\n",
       " 'BCV',\n",
       " 'BDH',\n",
       " 'BDL',\n",
       " 'BDR',\n",
       " 'BFY',\n",
       " 'BHB',\n",
       " 'BHH',\n",
       " 'BHO',\n",
       " 'BHV',\n",
       " 'BKJ',\n",
       " 'BKR',\n",
       " 'BLD',\n",
       " 'BLE',\n",
       " 'BLJ',\n",
       " 'BMJ',\n",
       " 'BNX',\n",
       " 'BPS',\n",
       " 'BPZ',\n",
       " 'BQI',\n",
       " 'BQY',\n",
       " 'BRN',\n",
       " 'BTC',\n",
       " 'BTI',\n",
       " 'BTN',\n",
       " 'APYX',\n",
       " 'BWL.A',\n",
       " 'BZC',\n",
       " 'BZM',\n",
       " 'CAW',\n",
       " 'CCA',\n",
       " 'CCF',\n",
       " 'CDY',\n",
       " 'CEF',\n",
       " 'CET',\n",
       " 'CEV',\n",
       " 'CFK',\n",
       " 'CFP',\n",
       " 'CFW',\n",
       " 'CGA',\n",
       " 'CGL.A',\n",
       " 'CGR',\n",
       " 'CH',\n",
       " 'CIK',\n",
       " 'CKX',\n",
       " 'CLM',\n",
       " 'CMT',\n",
       " 'CNR',\n",
       " 'CNU',\n",
       " 'COR',\n",
       " 'CQP',\n",
       " 'CRC',\n",
       " 'CRF',\n",
       " 'CRV',\n",
       " 'CTO',\n",
       " 'CUO',\n",
       " 'SNCA',\n",
       " 'CVF',\n",
       " 'CVM',\n",
       " 'CVR',\n",
       " 'CVU',\n",
       " 'CXM',\n",
       " 'CXZ',\n",
       " 'DDD',\n",
       " 'DFR',\n",
       " 'DHY',\n",
       " 'DINI',\n",
       " 'DIT']"
      ]
     },
     "execution_count": 127,
     "metadata": {},
     "output_type": "execute_result"
    }
   ],
   "source": [
    "st_ticker_list[:100]"
   ]
  },
  {
   "cell_type": "code",
   "execution_count": 111,
   "metadata": {},
   "outputs": [],
   "source": [
    "r = requests.get('https://stocktwits.com/symbol/BTC.X')\n"
   ]
  },
  {
   "cell_type": "code",
   "execution_count": 139,
   "metadata": {},
   "outputs": [],
   "source": [
    "r.text"
   ]
  },
  {
   "cell_type": "code",
   "execution_count": 114,
   "metadata": {},
   "outputs": [],
   "source": [
    "text = r.text"
   ]
  },
  {
   "cell_type": "code",
   "execution_count": 116,
   "metadata": {},
   "outputs": [],
   "source": [
    "sentiment_word = text.find('sentimentChange')"
   ]
  },
  {
   "cell_type": "code",
   "execution_count": 119,
   "metadata": {},
   "outputs": [],
   "source": [
    "sentiment = text[sentiment_word+17:sentiment_word+22]"
   ]
  },
  {
   "cell_type": "code",
   "execution_count": 136,
   "metadata": {},
   "outputs": [],
   "source": [
    "tickers3 = ['ROKU', 'PINS', 'W']"
   ]
  },
  {
   "cell_type": "code",
   "execution_count": 140,
   "metadata": {},
   "outputs": [],
   "source": [
    "top_nsdq = ['AAOI', 'AAPL', 'ABBV', 'ABIO', 'ACAD', 'ACHV', 'ACRX', 'ACST', 'ADBE',\n",
    "       'ADMP', 'ADXS', 'AEZS', 'AGRX', 'AKER', 'AMAT', 'AMBA', 'AMDA', 'AMGN',\n",
    "       'AMPE', 'AMRH', 'AMRN', 'AMRS', 'AMZN', 'APRI', 'APRN', 'ARGS', 'ARRY',\n",
    "       'ARWR', 'ATNM', 'ATOS', 'ATVI', 'AUPH', 'AVEO', 'AVGO', 'AVGR', 'AYTU',\n",
    "       'BABA', 'BIDU', 'BIIB', 'BIOC', 'BKNG', 'BLDP', 'BLPH', 'BPMX', 'BPTH',\n",
    "       'BZUN', 'CAPR', 'CARA', 'CELG', 'CHFS', 'CLSN', 'CLVS', 'CNAT', 'CODX',\n",
    "       'COST', 'CPHI', 'CPRX', 'CRBP', 'CRMD', 'CRON', 'CRSP', 'CSCO', 'CYCC',\n",
    "       'CYTR', 'DARE', 'DCAR', 'DFFN', 'DRYS', 'DVAX', 'DXTR', 'EARS', 'EBAY',\n",
    "       'EKSO', 'ENPH', 'EROS', 'ETSY', 'EXEL', 'FCEL', 'FEYE', 'FSLR', 'GERN',\n",
    "       'GEVO', 'GILD', 'GLBS', 'GLUU', 'GOOG', 'GPRO', 'GRPN', 'GSAT', 'GWPH',\n",
    "       'HEAR', 'HIMX', 'HMNY', 'HTBX', 'HTGM', 'HUSA', 'IBIO', 'IDXG', 'IMNP',\n",
    "       'IMUC', 'INPX', 'INSY', 'INTC', 'IRBT', 'ISRG', 'JAGX', 'JBLU', 'KNDI', 'KTOV',\n",
    "       'LODE', 'LULU', 'MARA', 'MARK', 'MBOT', 'MBRX', 'MNGA', 'MNKD', 'MOMO',\n",
    "       'MOSY', 'MRNA', 'MRNS', 'MSFT', 'MTBC', 'MYSZ', 'NAKD', 'NBEV', 'NEPT',\n",
    "       'NETE', 'NFLX', 'NLST', 'NNVC', 'NOVN', 'NSPR', 'NTNX', 'NVAX', 'NVCN',\n",
    "       'NVDA', 'NXTD', 'OGEN', 'OHGI', 'OKTA', 'ONTX', 'OPGN', 'OPTT', 'ORCL',\n",
    "       'OSTK', 'PANW', 'PLUG', 'PRPO', 'PTIE', 'PULM', 'PYPL', 'QCOM', 'RGSE',\n",
    "       'RIOT', 'RKDA', 'RNVA', 'ROKU', 'RSLS', 'RTTR', 'RWLK', 'SAEX', 'SBUX',\n",
    "       'SCON', 'SDRL', 'SFIX', 'SGMO', 'SGYP', 'SHAK', 'SHIP', 'SHOP', 'SIRI',\n",
    "       'SNAP', 'SPHS', 'SPOT', 'SPWR', 'SRNE', 'SRPT', 'SVRA', 'SWKS', 'TENX',\n",
    "       'TEUM', 'TEVA', 'TMUS', 'TNDM', 'TNXP', 'TOPS', 'TROV', 'TRVN', 'TRXC',\n",
    "       'TSLA', 'TTNP', 'TTOO', 'TTWO', 'TWLO', 'TWTR', 'TXMD', 'ULTA', 'VBIV',\n",
    "       'VIVE', 'VKTX', 'VSTM', 'VTVT', 'VXRT', 'WATT', 'WKHS', 'WYNN', 'XGTI', 'XSPA',\n",
    "       'XXII', 'YELP', 'YRIV', 'YTEN', 'YUMA', 'ZNGA', 'ZSAN', 'ZYNE']"
   ]
  },
  {
   "cell_type": "code",
   "execution_count": 141,
   "metadata": {},
   "outputs": [],
   "source": [
    "def ticker_sentiment(tickers): \n",
    "    sentiment_list = []\n",
    "    for ticker in tickers:\n",
    "        r = requests.get(f'https://stocktwits.com/symbol/{ticker}')\n",
    "        text = r.text\n",
    "        sentiment_word = text.find('sentimentChange')\n",
    "        sentiment = text[sentiment_word+17:sentiment_word+22]\n",
    "        print(sentiment)\n",
    "        sentiment_list.append([ticker, sentiment])\n",
    "    return sentiment_list"
   ]
  },
  {
   "cell_type": "code",
   "execution_count": 144,
   "metadata": {},
   "outputs": [
    {
     "name": "stdout",
     "output_type": "stream",
     "text": [
      "2.78,\n",
      "2.14,\n",
      "-6.78\n"
     ]
    }
   ],
   "source": [
    "first100 = ticker_sentiment(tickers3)"
   ]
  },
  {
   "cell_type": "code",
   "execution_count": 145,
   "metadata": {},
   "outputs": [
    {
     "data": {
      "text/plain": [
       "[['ROKU', '2.78,'], ['PINS', '2.14,'], ['W', '-6.78']]"
      ]
     },
     "execution_count": 145,
     "metadata": {},
     "output_type": "execute_result"
    }
   ],
   "source": [
    "first100"
   ]
  },
  {
   "cell_type": "code",
   "execution_count": null,
   "metadata": {},
   "outputs": [],
   "source": []
  }
 ],
 "metadata": {
  "kernelspec": {
   "display_name": "Python 3",
   "language": "python",
   "name": "python3"
  },
  "language_info": {
   "codemirror_mode": {
    "name": "ipython",
    "version": 3
   },
   "file_extension": ".py",
   "mimetype": "text/x-python",
   "name": "python",
   "nbconvert_exporter": "python",
   "pygments_lexer": "ipython3",
   "version": "3.7.3"
  }
 },
 "nbformat": 4,
 "nbformat_minor": 2
}
