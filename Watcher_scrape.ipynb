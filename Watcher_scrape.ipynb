{
 "cells": [
  {
   "cell_type": "code",
   "execution_count": null,
   "metadata": {},
   "outputs": [],
   "source": [
    "import re\n",
    "import os\n",
    "import time\n",
    "import random\n",
    "import requests\n",
    "import numpy as np\n",
    "import pandas as pd\n",
    "from os import system\n",
    "from math import floor\n",
    "from copy import deepcopy\n",
    "from bs4 import BeautifulSoup\n",
    "from selenium import webdriver\n",
    "from selenium.webdriver.common.by import By\n",
    "from selenium.webdriver.common.keys import Keys\n",
    "from selenium.common.exceptions import TimeoutException\n",
    "from selenium.webdriver.support.ui import WebDriverWait\n",
    "from selenium.webdriver.support import expected_conditions as EC\n",
    "\n",
    "import time\n",
    "from selenium.webdriver.chrome.options import Options\n",
    "import config\n",
    "import matplotlib.pyplot as plt"
   ]
  },
  {
   "cell_type": "code",
   "execution_count": null,
   "metadata": {},
   "outputs": [],
   "source": [
    "# Pulls in table of top 500 stocks from wikipedia \n",
    "df = pd.read_html('https://en.wikipedia.org/wiki/List_of_S%26P_500_companies')\n",
    "df = df[0]"
   ]
  },
  {
   "cell_type": "code",
   "execution_count": null,
   "metadata": {},
   "outputs": [],
   "source": [
    "# Creates list of S&P 500 tickers from df \n",
    "ticker_list = df['Symbol'].values.tolist()"
   ]
  },
  {
   "cell_type": "code",
   "execution_count": null,
   "metadata": {},
   "outputs": [],
   "source": [
    "def stocktwits_login():\n",
    "\n",
    "    pd.set_option('display.max_columns', 20)\n",
    "    pd.set_option('display.max_colwidth', 200)\n",
    "    mobile_emulation = { \"deviceName\": \"iPhone X\" }\n",
    "\n",
    "    chrome_options = Options()\n",
    "    chrome_options.add_experimental_option(\"mobileEmulation\", mobile_emulation)\n",
    "    driver = webdriver.Chrome(chrome_options = chrome_options)\n",
    "\n",
    "    driver.get('https://stocktwits.com/')\n",
    "    \n",
    "    time.sleep(.5)\n",
    "    login = driver.find_element_by_xpath('//*[@id=\"app\"]/div/div/div[2]/div/div/div/div/div[1]/div[1]/div[4]/div/span[2]')\n",
    "    login.click()\n",
    "\n",
    "    #username\n",
    "    username = driver.find_element_by_xpath('//*[@id=\"app\"]/div/div/div[4]/div[2]/div/form/div[1]/div[1]/label/input')\n",
    "    username.click()\n",
    "    username.send_keys(config.username)\n",
    "\n",
    "    #password\n",
    "    password = driver.find_element_by_xpath('//*[@id=\"app\"]/div/div/div[4]/div[2]/div/form/div[1]/div[2]/label/input')\n",
    "    password.click()\n",
    "    password.send_keys(config.password)\n",
    "\n",
    "    #sign in \n",
    "    signin = driver.find_element_by_xpath('//*[@id=\"app\"]/div/div/div[4]/div[2]/div/form/div[2]/div[1]/button')\n",
    "    signin.click()\n",
    "    \n",
    "    return driver"
   ]
  },
  {
   "cell_type": "code",
   "execution_count": null,
   "metadata": {},
   "outputs": [],
   "source": [
    "driver = stocktwits_login()"
   ]
  },
  {
   "cell_type": "code",
   "execution_count": null,
   "metadata": {},
   "outputs": [],
   "source": [
    "def stocks_500_watch(ticker_list):\n",
    "    driver = stocktwits_login()\n",
    "    watch_dict = {}\n",
    "    \n",
    "    for i in ticker_list:\n",
    "        \n",
    "        driver.get(f'https://stocktwits.com/symbol/{i}')\n",
    "        try:\n",
    "            watchers = driver.find_element_by_xpath('//*[@id=\"app\"]/div/div/div[2]/div[2]/div[1]/div/div/div/div/div[2]/div/strong')\n",
    "            watchers = watchers.text\n",
    "            watch_dict[i] = watchers\n",
    "        except:\n",
    "            continue\n",
    "        time.sleep(.7)\n",
    "        \n",
    "        \n",
    "    return watch_dict"
   ]
  },
  {
   "cell_type": "code",
   "execution_count": null,
   "metadata": {},
   "outputs": [],
   "source": [
    "watchers_dictionary = stocks_500_watch(ticker_list)"
   ]
  },
  {
   "cell_type": "markdown",
   "metadata": {},
   "source": []
  },
  {
   "cell_type": "code",
   "execution_count": null,
   "metadata": {},
   "outputs": [],
   "source": []
  }
 ],
 "metadata": {
  "kernelspec": {
   "display_name": "learn-env",
   "language": "python",
   "name": "learn-env"
  },
  "language_info": {
   "codemirror_mode": {
    "name": "ipython",
    "version": 3
   },
   "file_extension": ".py",
   "mimetype": "text/x-python",
   "name": "python",
   "nbconvert_exporter": "python",
   "pygments_lexer": "ipython3",
   "version": "3.7.3"
  }
 },
 "nbformat": 4,
 "nbformat_minor": 2
}
