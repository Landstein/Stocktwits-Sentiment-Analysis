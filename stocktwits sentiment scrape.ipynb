{
 "cells": [
  {
   "cell_type": "code",
   "execution_count": null,
   "metadata": {},
   "outputs": [],
   "source": [
    "import re\n",
    "import os\n",
    "import time\n",
    "import random\n",
    "import requests\n",
    "import numpy as np\n",
    "import pandas as pd\n",
    "from os import system\n",
    "from math import floor\n",
    "from copy import deepcopy\n",
    "from bs4 import BeautifulSoup\n",
    "from selenium import webdriver\n",
    "from selenium.webdriver.common.by import By\n",
    "from selenium.webdriver.common.keys import Keys\n",
    "from selenium.common.exceptions import TimeoutException\n",
    "from selenium.webdriver.support.ui import WebDriverWait\n",
    "from selenium.webdriver.support import expected_conditions as EC\n",
    "\n",
    "import time\n",
    "from selenium.webdriver.chrome.options import Options\n",
    "import config\n",
    "import matplotlib.pyplot as plt\n",
    "\n",
    "from alpha_vantage.timeseries import TimeSeries\n",
    "import matplotlib.pyplot as plt\n",
    "%matplotlib inline\n",
    "\n",
    "from sqlalchemy import create_engine\n",
    "\n",
    "from datetime import date, datetime\n",
    "import holidays\n",
    "today = date.today()\n",
    "us_holidays = holidays.UnitedStates()"
   ]
  },
  {
   "cell_type": "code",
   "execution_count": 1,
   "metadata": {},
   "outputs": [],
   "source": [
    "def stocktwits_login():\n",
    "\n",
    "    pd.set_option('display.max_columns', 20)\n",
    "    pd.set_option('display.max_colwidth', 200)\n",
    "    mobile_emulation = { \"deviceName\": \"iPhone X\" }\n",
    "\n",
    "    chrome_options = Options()\n",
    "    chrome_options.add_experimental_option(\"mobileEmulation\", mobile_emulation)\n",
    "    driver = webdriver.Chrome(chrome_options = chrome_options)\n",
    "\n",
    "    driver.get('https://stocktwits.com/')\n",
    "    \n",
    "    time.sleep(.5)\n",
    "    login = driver.find_element_by_xpath('//*[@id=\"app\"]/div/div/div[2]/div/div/div/div/div[1]/div[1]/div[4]/div/span[2]')\n",
    "    login.click()\n",
    "\n",
    "    #username\n",
    "    username = driver.find_element_by_xpath('//*[@id=\"app\"]/div/div/div[4]/div[2]/div/form/div[1]/div[1]/label/input')\n",
    "    username.click()\n",
    "    username.send_keys(config.username)\n",
    "\n",
    "    #password\n",
    "    password = driver.find_element_by_xpath('//*[@id=\"app\"]/div/div/div[4]/div[2]/div/form/div[1]/div[2]/label/input')\n",
    "    password.click()\n",
    "    password.send_keys(config.password)\n",
    "\n",
    "    #sign in \n",
    "    signin = driver.find_element_by_xpath('//*[@id=\"app\"]/div/div/div[4]/div[2]/div/form/div[2]/div[1]/button')\n",
    "    signin.click()\n",
    "    \n",
    "    return driver"
   ]
  },
  {
   "cell_type": "code",
   "execution_count": null,
   "metadata": {},
   "outputs": [],
   "source": [
    "driver = stocktwits_login()\n"
   ]
  },
  {
   "cell_type": "code",
   "execution_count": null,
   "metadata": {},
   "outputs": [],
   "source": [
    "def stock_data():    \n",
    "    tickers = ['ABBV', 'ATVI', 'ADBE', 'AMD', 'GOOGL', 'GOOG', 'MO', 'AMZN', 'AAL', 'AAPL', 'AMAT', 'T', 'BAC', \n",
    "               'BRK.B', 'BBY', 'BIIB', 'BA', 'BKNG', 'BMY', 'AVGO', 'CAT', 'CVX', 'CMG', 'CSCO', 'C', 'KO', 'COST', \n",
    "               'CVS', 'DAL', 'EBAY', 'EA', 'XOM', 'FB', 'FDX', 'F', 'FCX', 'GE', 'GM', 'GILD', 'GS', 'HD', 'INTC', \n",
    "               'IBM', 'ISRG', 'JNJ', 'JPM', 'KMI', 'KHC', 'KR', 'LMT', 'M', 'MA', 'MCD', 'MRK', 'MU', 'MSFT', 'NFLX', \n",
    "               'NKE', 'NVDA', 'ORCL', 'PYPL', 'PFE', 'PG', 'QCOM', 'CRM', 'SWKS', 'LUV', 'SBUX', 'TMUS', 'TTWO', \n",
    "               'TGT', 'TWTR', 'ULTA', 'UAA', 'VZ', 'V', 'WMT', 'DIS', 'WFC', 'WYNN']\n",
    "\n",
    "    stock_dic = {}\n",
    "    stock_list = []\n",
    "    \n",
    "    driver = stocktwits_login()\n",
    "    time.sleep(1)\n",
    "\n",
    "    for i in tickers:\n",
    "        key = ''\n",
    "        ts = TimeSeries(key)\n",
    "        driver.get(f'https://stocktwits.com/symbol/{i}')\n",
    "        sentiment = driver.find_element_by_xpath('//*[@id=\"app\"]/div/div/div[2]/div[2]/div[2]/div[1]/div/main/section/div[1]/div/div/div/div/div[1]/div/div/div[2]/div/div[1]')\n",
    "        sent = sentiment.text\n",
    "        sent_color = driver.find_elements_by_class_name('st_rmCmCyZ')\n",
    "        sent_color = sent_color[1]\n",
    "\n",
    "        if sent_color.value_of_css_property('color') == 'rgba(255, 62, 62, 1)':\n",
    "            stock_dic['Direction'] = 'Negetive'\n",
    "        else:\n",
    "            stock_dic['Direction'] = 'Positve'\n",
    "        stock_dic['Stock'] = i\n",
    "        stock_dic['Date'] = datecurrent_date\n",
    "        stock_dic[f'{i}_Sentiment'] = sent\n",
    "        stock, meta = ts.get_daily(symbol=i)\n",
    "        stock_dic[f'{i}_Open_Price'] = stock[f'{datecurrent_date}']['1. open']\n",
    "        stock_dic[f'{i}_Close_Price'] = stock[f'{datecurrent_date}']['4. close']\n",
    "        stock_dic[f'{i}_Volume'] = stock[f'{datecurrent_date}']['5. volume']\n",
    "        stock_list.append(stock_dic)\n",
    "        stock_dic = {}\n",
    "        if i != tickers[-1]:\n",
    "            time.sleep(14)\n",
    "            \n",
    "    return stock_list"
   ]
  },
  {
   "cell_type": "code",
   "execution_count": null,
   "metadata": {},
   "outputs": [],
   "source": [
    "stock_list = stock_data()"
   ]
  },
  {
   "cell_type": "code",
   "execution_count": null,
   "metadata": {},
   "outputs": [],
   "source": []
  },
  {
   "cell_type": "code",
   "execution_count": null,
   "metadata": {},
   "outputs": [],
   "source": [
    "def stock_data_list(stock_list):\n",
    "    \n",
    "    datecurrent_date = today.strftime(\"%Y-%m-%d\")\n",
    "    new_list = []\n",
    "    final_list = []\n",
    "    for i in stock_list:\n",
    "        hourly_date = datetime.now().strftime(\"%H:%M:%S\")\n",
    "        stock = i['Stock']\n",
    "        sent = i[f'{stock}_Sentiment']\n",
    "        sent = float(sent[:4])\n",
    "        date = i['Date']\n",
    "        open_p = i[f'{stock}_Open_Price']\n",
    "        close_p = i[f'{stock}_Close_Price']\n",
    "        volume = i[f'{stock}_Volume']\n",
    "        \n",
    "        \n",
    "        if i['Direction'] == 'Negetive':\n",
    "            sent = -abs(sent)\n",
    "        else:\n",
    "            sent = abs(sent)\n",
    "            \n",
    "        new_list.append(date)\n",
    "        new_list.append(hourly_date)\n",
    "        new_list.append(stock)\n",
    "        new_list.append(sent)\n",
    "        new_list.append(open_p)\n",
    "        new_list.append(close_p)\n",
    "        new_list.append(volume)\n",
    "        final_list.append(new_list)\n",
    "        new_list = []\n",
    "    return final_list\n",
    "    "
   ]
  },
  {
   "cell_type": "code",
   "execution_count": null,
   "metadata": {},
   "outputs": [],
   "source": [
    "list_of_stocks = stock_data_list(stock_list)"
   ]
  },
  {
   "cell_type": "code",
   "execution_count": null,
   "metadata": {},
   "outputs": [],
   "source": []
  },
  {
   "cell_type": "code",
   "execution_count": null,
   "metadata": {},
   "outputs": [],
   "source": [
    "def create_df(list_of_stocks):\n",
    "    df = pd.DataFrame(list_of_stocks, columns=['date', 'h_m_s', 'stock', 'sentiment', 'open', 'close', 'volume'])\n",
    "    df.set_index('date', inplace=True)\n",
    "    df.index = pd.DatetimeIndex(df.index)\n",
    "    return df"
   ]
  },
  {
   "cell_type": "code",
   "execution_count": null,
   "metadata": {},
   "outputs": [],
   "source": [
    "df = create_df(list_of_stocks)"
   ]
  },
  {
   "cell_type": "code",
   "execution_count": null,
   "metadata": {},
   "outputs": [],
   "source": []
  },
  {
   "cell_type": "code",
   "execution_count": null,
   "metadata": {},
   "outputs": [],
   "source": [
    "def sql_commit(df):\n",
    "    engine = create_engine(\"mysql+mysqlconnector://{user}:{pw}@{host}/{db}\"\n",
    "                       .format(user=config.user,\n",
    "                               pw=config.passwd,\n",
    "                               host=config.host,\n",
    "                               db=config.db_name))\n",
    "    \n",
    "    stocks = df['stock'].values.tolist()  \n",
    "    for i in range(len(stocks)):\n",
    "        stock = df[df['stock'] == stocks[i]]\n",
    "        # Insert whole DataFrame into MySQL\n",
    "        stock.to_sql(stocks[i], con = engine, if_exists = 'append')"
   ]
  },
  {
   "cell_type": "code",
   "execution_count": null,
   "metadata": {},
   "outputs": [],
   "source": [
    "sql_commit(df)"
   ]
  }
 ],
 "metadata": {
  "kernelspec": {
   "display_name": "learn-env",
   "language": "python",
   "name": "learn-env"
  },
  "language_info": {
   "codemirror_mode": {
    "name": "ipython",
    "version": 3
   },
   "file_extension": ".py",
   "mimetype": "text/x-python",
   "name": "python",
   "nbconvert_exporter": "python",
   "pygments_lexer": "ipython3",
   "version": "3.7.3"
  }
 },
 "nbformat": 4,
 "nbformat_minor": 2
}
