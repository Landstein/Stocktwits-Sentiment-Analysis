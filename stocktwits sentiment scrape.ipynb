{
 "cells": [
  {
   "cell_type": "code",
   "execution_count": null,
   "metadata": {},
   "outputs": [],
   "source": [
    "import re\n",
    "import os\n",
    "import time\n",
    "import random\n",
    "import requests\n",
    "import numpy as np\n",
    "import pandas as pd\n",
    "from os import system\n",
    "from math import floor\n",
    "from copy import deepcopy\n",
    "from bs4 import BeautifulSoup\n",
    "from selenium import webdriver\n",
    "from selenium.webdriver.common.by import By\n",
    "from selenium.webdriver.common.keys import Keys\n",
    "from selenium.common.exceptions import TimeoutException\n",
    "from selenium.webdriver.support.ui import WebDriverWait\n",
    "from selenium.webdriver.support import expected_conditions as EC\n",
    "\n",
    "import time\n",
    "from selenium.webdriver.chrome.options import Options\n",
    "import config\n",
    "import matplotlib.pyplot as plt"
   ]
  },
  {
   "cell_type": "code",
   "execution_count": null,
   "metadata": {},
   "outputs": [],
   "source": [
    "pd.set_option('display.max_columns', 20)\n",
    "pd.set_option('display.max_colwidth', 200)"
   ]
  },
  {
   "cell_type": "code",
   "execution_count": null,
   "metadata": {},
   "outputs": [],
   "source": [
    "mobile_emulation = { \"deviceName\": \"iPhone X\" }\n",
    "\n",
    "chrome_options = Options()\n",
    "\n",
    "chrome_options.add_experimental_option(\"mobileEmulation\", mobile_emulation)\n",
    "\n",
    "driver = webdriver.Chrome(chrome_options = chrome_options)"
   ]
  },
  {
   "cell_type": "code",
   "execution_count": null,
   "metadata": {},
   "outputs": [],
   "source": [
    "driver.get('https://stocktwits.com/')"
   ]
  },
  {
   "cell_type": "code",
   "execution_count": null,
   "metadata": {},
   "outputs": [],
   "source": [
    "login = driver.find_element_by_xpath('//*[@id=\"app\"]/div/div/div[2]/div/div/div/div/div[1]/div[1]/div[4]/div/span[2]')"
   ]
  },
  {
   "cell_type": "code",
   "execution_count": null,
   "metadata": {},
   "outputs": [],
   "source": [
    "login.click()"
   ]
  },
  {
   "cell_type": "code",
   "execution_count": null,
   "metadata": {},
   "outputs": [],
   "source": [
    "#username\n",
    "username = driver.find_element_by_xpath('//*[@id=\"app\"]/div/div/div[4]/div[2]/div/form/div[1]/div[1]/label/input')\n",
    "username.click()\n",
    "username.send_keys(config.username)\n"
   ]
  },
  {
   "cell_type": "code",
   "execution_count": null,
   "metadata": {},
   "outputs": [],
   "source": [
    "#password\n",
    "password = driver.find_element_by_xpath('//*[@id=\"app\"]/div/div/div[4]/div[2]/div/form/div[1]/div[2]/label/input')\n",
    "password.click()\n",
    "password.send_keys(config.password)"
   ]
  },
  {
   "cell_type": "code",
   "execution_count": null,
   "metadata": {},
   "outputs": [],
   "source": [
    "#sign in \n",
    "signin = driver.find_element_by_xpath('//*[@id=\"app\"]/div/div/div[4]/div[2]/div/form/div[2]/div[1]/button')\n",
    "signin.click()"
   ]
  },
  {
   "cell_type": "code",
   "execution_count": null,
   "metadata": {},
   "outputs": [],
   "source": [
    "from datetime import date\n",
    "today = date.today()\n"
   ]
  },
  {
   "cell_type": "code",
   "execution_count": null,
   "metadata": {},
   "outputs": [],
   "source": [
    "from alpha_vantage.timeseries import TimeSeries\n",
    "import matplotlib.pyplot as plt\n",
    "%matplotlib inline\n"
   ]
  },
  {
   "cell_type": "code",
   "execution_count": null,
   "metadata": {},
   "outputs": [],
   "source": [
    "tickers = ['aapl', 'fb', 'spy', 'cost', 't', 'cgc', 'amd', 'sbux', 'f', 'msft', 'ba', 'roku', 'baba', 'goog', 'amzn', 'nflx']\n",
    "# tickers = ['f', 'msft', 'ba', 'roku', 'baba', 'goog', 'amzn', 'nflx']\n",
    "\n",
    "stock_dic = {}\n",
    "stock_list = []\n",
    "key = ''\n",
    "ts = TimeSeries(key)\n",
    "\n",
    "datecurrent_date = today.strftime(\"%Y-%m-%d\")"
   ]
  },
  {
   "cell_type": "code",
   "execution_count": null,
   "metadata": {},
   "outputs": [],
   "source": [
    "for i in tickers:\n",
    "    key = ''\n",
    "    ts = TimeSeries(key)\n",
    "    driver.get(f'https://stocktwits.com/symbol/{i}')\n",
    "    sentiment = driver.find_element_by_xpath('//*[@id=\"app\"]/div/div/div[2]/div[2]/div[2]/div[1]/div/main/section/div[1]/div/div/div/div/div[1]/div/div/div[2]/div/div[1]')\n",
    "    sent = sentiment.text\n",
    "    try:\n",
    "        sent_color = driver.find_element_by_class_name('st_37VuZWc')\n",
    "    except:\n",
    "        sent_color = driver.find_element_by_class_name('st_2ViIaO9')\n",
    "    \n",
    "    if sent_color.value_of_css_property('color') == 'rgba(255, 62, 62, 1)':\n",
    "        stock_dic['Direction'] = 'Negetive'\n",
    "    else:\n",
    "        stock_dic['Direction'] = 'Positve'\n",
    "    stock_dic['Stock'] = i\n",
    "    stock_dic['Date'] = datecurrent_date\n",
    "    stock_dic[f'{i}_Sentiment'] = sent\n",
    "    stock, meta = ts.get_daily(symbol=i)\n",
    "    stock_dic[f'{i}_Open_Price'] = stock[f'{datecurrent_date}']['1. open']\n",
    "    stock_dic[f'{i}_Close_Price'] = stock[f'{datecurrent_date}']['4. close']\n",
    "    stock_dic[f'{i}_Volume'] = stock[f'{datecurrent_date}']['5. volume']\n",
    "    stock_list.append(stock_dic)\n",
    "    stock_dic = {}\n",
    "    if i != tickers[-1]:\n",
    "        time.sleep(14)"
   ]
  },
  {
   "cell_type": "code",
   "execution_count": null,
   "metadata": {},
   "outputs": [],
   "source": [
    "stock_list"
   ]
  },
  {
   "cell_type": "code",
   "execution_count": null,
   "metadata": {},
   "outputs": [],
   "source": []
  },
  {
   "cell_type": "code",
   "execution_count": null,
   "metadata": {},
   "outputs": [],
   "source": []
  },
  {
   "cell_type": "code",
   "execution_count": null,
   "metadata": {},
   "outputs": [],
   "source": []
  }
 ],
 "metadata": {
  "kernelspec": {
   "display_name": "learn-env",
   "language": "python",
   "name": "learn-env"
  },
  "language_info": {
   "codemirror_mode": {
    "name": "ipython",
    "version": 3
   },
   "file_extension": ".py",
   "mimetype": "text/x-python",
   "name": "python",
   "nbconvert_exporter": "python",
   "pygments_lexer": "ipython3",
   "version": "3.7.3"
  }
 },
 "nbformat": 4,
 "nbformat_minor": 2
}
