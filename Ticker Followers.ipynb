{
 "cells": [
  {
   "cell_type": "markdown",
   "metadata": {},
   "source": [
    "## Tickers to follow\n",
    "The objective here is to identify which tickers are available on stocktwits. Then I can scrape the watchers daily to see if there are any stocks that have a big increase."
   ]
  },
  {
   "cell_type": "code",
   "execution_count": 1,
   "metadata": {},
   "outputs": [],
   "source": [
    "import numpy as np\n",
    "import pandas as pd\n",
    "from os import system\n",
    "import time\n",
    "\n",
    "from selenium import webdriver\n",
    "from selenium.webdriver.common.by import By\n",
    "from selenium.webdriver.common.keys import Keys\n",
    "from selenium.common.exceptions import TimeoutException\n",
    "from selenium.webdriver.support.ui import WebDriverWait\n",
    "from selenium.webdriver.support import expected_conditions as EC\n",
    "from selenium.webdriver.chrome.options import Options\n",
    "\n",
    "import config\n",
    "import matplotlib.pyplot as plt"
   ]
  },
  {
   "cell_type": "code",
   "execution_count": null,
   "metadata": {},
   "outputs": [],
   "source": [
    "nsdq = pd.read_csv('nsdq.csv')"
   ]
  },
  {
   "cell_type": "code",
   "execution_count": null,
   "metadata": {},
   "outputs": [],
   "source": [
    "nsdq_tickers = nsdq['Watchlist Scanner'][3:].values.tolist()"
   ]
  },
  {
   "cell_type": "code",
   "execution_count": null,
   "metadata": {},
   "outputs": [],
   "source": [
    "# Stocktwits login function \n",
    "def stocktwits_login():\n",
    "\n",
    "    pd.set_option('display.max_columns', 20)\n",
    "    pd.set_option('display.max_colwidth', 200)\n",
    "    mobile_emulation = { \"deviceName\": \"iPhone X\" }\n",
    "\n",
    "    chrome_options = Options()\n",
    "    chrome_options.add_experimental_option(\"mobileEmulation\", mobile_emulation)\n",
    "    driver = webdriver.Chrome(chrome_options = chrome_options)\n",
    "\n",
    "    driver.get('https://stocktwits.com/')\n",
    "    \n",
    "    time.sleep(.5)\n",
    "    login = driver.find_element_by_xpath('//*[@id=\"app\"]/div/div/div[2]/div/div/div/div/div[1]/div[1]/div[4]/div/span[2]')\n",
    "    login.click()\n",
    "\n",
    "    #username\n",
    "    username = driver.find_element_by_xpath('//*[@id=\"app\"]/div/div/div[4]/div[2]/div/form/div[1]/div[1]/label/input')\n",
    "    username.click()\n",
    "    username.send_keys(config.username)\n",
    "\n",
    "    #password\n",
    "    password = driver.find_element_by_xpath('//*[@id=\"app\"]/div/div/div[4]/div[2]/div/form/div[1]/div[2]/label/input')\n",
    "    password.click()\n",
    "    password.send_keys(config.password)\n",
    "\n",
    "    #sign in \n",
    "    signin = driver.find_element_by_xpath('//*[@id=\"app\"]/div/div/div[4]/div[2]/div/form/div[2]/div[1]/button')\n",
    "    signin.click()\n",
    "    \n",
    "    return driver"
   ]
  },
  {
   "cell_type": "code",
   "execution_count": null,
   "metadata": {},
   "outputs": [],
   "source": [
    "# Takes in Ticker List from wikipedia page \n",
    "# Scrapes all of the watchers for each stock in the S&P 500 \n",
    "# Looking for stocks with over 10k watchers to make sure the stock gets enough activity \n",
    "# because stocks with no activity have huge sentiment swings which is not good for analysis \n",
    "def stocks_500_watch(ticker_list):\n",
    "    driver = stocktwits_login()\n",
    "    watch_dict = {}\n",
    "    \n",
    "    for i in ticker_list:\n",
    "        \n",
    "        driver.get(f'https://stocktwits.com/symbol/{i}')\n",
    "        try:\n",
    "            watchers = driver.find_element_by_xpath('//*[@id=\"app\"]/div/div/div[2]/div[2]/div[1]/div/div/div/div/div[2]/div/strong')\n",
    "            watchers = watchers.text\n",
    "            watch_dict[i] = watchers\n",
    "        except:\n",
    "            continue\n",
    "        time.sleep(.7)\n",
    "        \n",
    "    driver.quit()\n",
    "        \n",
    "    return watch_dict"
   ]
  },
  {
   "cell_type": "code",
   "execution_count": null,
   "metadata": {},
   "outputs": [],
   "source": [
    "driver = stocktwits_login()"
   ]
  },
  {
   "cell_type": "code",
   "execution_count": null,
   "metadata": {},
   "outputs": [],
   "source": [
    "# Scrape 1000 at a time to avoid issues or loss \n",
    "nsdq_dictionary = stocks_500_watch(nsdq_tickers[6000:])"
   ]
  },
  {
   "cell_type": "code",
   "execution_count": null,
   "metadata": {},
   "outputs": [],
   "source": [
    "# nsdq_dict = {}"
   ]
  },
  {
   "cell_type": "code",
   "execution_count": null,
   "metadata": {},
   "outputs": [],
   "source": [
    "# Final Dictionary \n",
    "nsdq_dict.update(nsdq_dictionary)"
   ]
  },
  {
   "cell_type": "code",
   "execution_count": null,
   "metadata": {},
   "outputs": [],
   "source": [
    "df = pd.DataFrame.from_dict(nsdq_dict, orient=\"index\")"
   ]
  },
  {
   "cell_type": "code",
   "execution_count": null,
   "metadata": {},
   "outputs": [],
   "source": [
    "df.shape"
   ]
  },
  {
   "cell_type": "code",
   "execution_count": null,
   "metadata": {},
   "outputs": [],
   "source": [
    "df.to_csv('nsdq_watchers.csv')"
   ]
  },
  {
   "cell_type": "markdown",
   "metadata": {},
   "source": [
    "### Nasdaq Watchers"
   ]
  },
  {
   "cell_type": "code",
   "execution_count": 2,
   "metadata": {},
   "outputs": [],
   "source": [
    "df_nsdq = pd.read_csv('nsdq_watchers.csv', index_col=0, names = ['Watchers'])"
   ]
  },
  {
   "cell_type": "code",
   "execution_count": 3,
   "metadata": {},
   "outputs": [
    {
     "data": {
      "text/html": [
       "<div>\n",
       "<style scoped>\n",
       "    .dataframe tbody tr th:only-of-type {\n",
       "        vertical-align: middle;\n",
       "    }\n",
       "\n",
       "    .dataframe tbody tr th {\n",
       "        vertical-align: top;\n",
       "    }\n",
       "\n",
       "    .dataframe thead th {\n",
       "        text-align: right;\n",
       "    }\n",
       "</style>\n",
       "<table border=\"1\" class=\"dataframe\">\n",
       "  <thead>\n",
       "    <tr style=\"text-align: right;\">\n",
       "      <th></th>\n",
       "      <th>Watchers</th>\n",
       "    </tr>\n",
       "  </thead>\n",
       "  <tbody>\n",
       "    <tr>\n",
       "      <th>NaN</th>\n",
       "      <td>0</td>\n",
       "    </tr>\n",
       "    <tr>\n",
       "      <th>AABA</th>\n",
       "      <td>2,192</td>\n",
       "    </tr>\n",
       "    <tr>\n",
       "      <th>AAMC</th>\n",
       "      <td>340</td>\n",
       "    </tr>\n",
       "    <tr>\n",
       "      <th>AAME</th>\n",
       "      <td>100</td>\n",
       "    </tr>\n",
       "    <tr>\n",
       "      <th>AAOI</th>\n",
       "      <td>13,533</td>\n",
       "    </tr>\n",
       "  </tbody>\n",
       "</table>\n",
       "</div>"
      ],
      "text/plain": [
       "     Watchers\n",
       "NaN         0\n",
       "AABA    2,192\n",
       "AAMC      340\n",
       "AAME      100\n",
       "AAOI   13,533"
      ]
     },
     "execution_count": 3,
     "metadata": {},
     "output_type": "execute_result"
    }
   ],
   "source": [
    "df_nsdq.head()"
   ]
  },
  {
   "cell_type": "code",
   "execution_count": 4,
   "metadata": {},
   "outputs": [],
   "source": [
    "df_nsdq['Watchers'] = df_nsdq['Watchers'].str.replace(',', '')\n",
    "df_nsdq['Watchers'] = df_nsdq['Watchers'].astype('int')"
   ]
  },
  {
   "cell_type": "code",
   "execution_count": 5,
   "metadata": {},
   "outputs": [
    {
     "data": {
      "text/html": [
       "<div>\n",
       "<style scoped>\n",
       "    .dataframe tbody tr th:only-of-type {\n",
       "        vertical-align: middle;\n",
       "    }\n",
       "\n",
       "    .dataframe tbody tr th {\n",
       "        vertical-align: top;\n",
       "    }\n",
       "\n",
       "    .dataframe thead th {\n",
       "        text-align: right;\n",
       "    }\n",
       "</style>\n",
       "<table border=\"1\" class=\"dataframe\">\n",
       "  <thead>\n",
       "    <tr style=\"text-align: right;\">\n",
       "      <th></th>\n",
       "      <th>Watchers</th>\n",
       "    </tr>\n",
       "  </thead>\n",
       "  <tbody>\n",
       "    <tr>\n",
       "      <th>AAPL</th>\n",
       "      <td>371286</td>\n",
       "    </tr>\n",
       "    <tr>\n",
       "      <th>AMZN</th>\n",
       "      <td>260064</td>\n",
       "    </tr>\n",
       "    <tr>\n",
       "      <th>BABA</th>\n",
       "      <td>175990</td>\n",
       "    </tr>\n",
       "    <tr>\n",
       "      <th>GOOG</th>\n",
       "      <td>136225</td>\n",
       "    </tr>\n",
       "    <tr>\n",
       "      <th>MSFT</th>\n",
       "      <td>175282</td>\n",
       "    </tr>\n",
       "    <tr>\n",
       "      <th>NFLX</th>\n",
       "      <td>221566</td>\n",
       "    </tr>\n",
       "    <tr>\n",
       "      <th>NVDA</th>\n",
       "      <td>173234</td>\n",
       "    </tr>\n",
       "    <tr>\n",
       "      <th>SNAP</th>\n",
       "      <td>122114</td>\n",
       "    </tr>\n",
       "    <tr>\n",
       "      <th>TSLA</th>\n",
       "      <td>305865</td>\n",
       "    </tr>\n",
       "    <tr>\n",
       "      <th>TWTR</th>\n",
       "      <td>161968</td>\n",
       "    </tr>\n",
       "  </tbody>\n",
       "</table>\n",
       "</div>"
      ],
      "text/plain": [
       "      Watchers\n",
       "AAPL    371286\n",
       "AMZN    260064\n",
       "BABA    175990\n",
       "GOOG    136225\n",
       "MSFT    175282\n",
       "NFLX    221566\n",
       "NVDA    173234\n",
       "SNAP    122114\n",
       "TSLA    305865\n",
       "TWTR    161968"
      ]
     },
     "execution_count": 5,
     "metadata": {},
     "output_type": "execute_result"
    }
   ],
   "source": [
    "df_nsdq[df_nsdq['Watchers'] >= 100000]"
   ]
  },
  {
   "cell_type": "markdown",
   "metadata": {},
   "source": [
    "## NYSE Tickers"
   ]
  },
  {
   "cell_type": "code",
   "execution_count": null,
   "metadata": {},
   "outputs": [],
   "source": [
    "nyse = pd.read_csv('nyse.csv')"
   ]
  },
  {
   "cell_type": "code",
   "execution_count": null,
   "metadata": {},
   "outputs": [],
   "source": [
    "nyse.head()"
   ]
  },
  {
   "cell_type": "code",
   "execution_count": null,
   "metadata": {},
   "outputs": [],
   "source": [
    "nyse_tickers = nyse['Watchlist Scanner'][3:].to_list()"
   ]
  },
  {
   "cell_type": "code",
   "execution_count": null,
   "metadata": {},
   "outputs": [],
   "source": [
    "# Scrape 1000 at a time to avoid issues \n",
    "nyse_dictionary = stocks_500_watch(nyse_tickers[1000:])\n"
   ]
  },
  {
   "cell_type": "code",
   "execution_count": null,
   "metadata": {},
   "outputs": [],
   "source": [
    "# Create empty dict\n",
    "# nyse_dict = {}"
   ]
  },
  {
   "cell_type": "code",
   "execution_count": null,
   "metadata": {},
   "outputs": [],
   "source": [
    "# Final Dictionary \n",
    "nyse_dict.update(nyse_dictionary)"
   ]
  },
  {
   "cell_type": "code",
   "execution_count": null,
   "metadata": {},
   "outputs": [],
   "source": [
    "df_nyse = pd.DataFrame.from_dict(nyse_dict, orient=\"index\")"
   ]
  },
  {
   "cell_type": "code",
   "execution_count": null,
   "metadata": {},
   "outputs": [],
   "source": [
    "df_nyse.to_csv('nyse_watchers.csv')"
   ]
  },
  {
   "cell_type": "code",
   "execution_count": null,
   "metadata": {},
   "outputs": [],
   "source": [
    "df_nyse = pd.read_csv('nyse_watchers.csv', index_col=0, names = ['Watchers'])"
   ]
  },
  {
   "cell_type": "code",
   "execution_count": null,
   "metadata": {},
   "outputs": [],
   "source": []
  },
  {
   "cell_type": "markdown",
   "metadata": {},
   "source": [
    "## All Data"
   ]
  },
  {
   "cell_type": "code",
   "execution_count": null,
   "metadata": {},
   "outputs": [],
   "source": [
    "df_nyse = df_nyse.iloc[1:, :]"
   ]
  },
  {
   "cell_type": "code",
   "execution_count": null,
   "metadata": {},
   "outputs": [],
   "source": [
    "df_nyse['Watchers'] = df_nyse['Watchers'].str.replace(',', '').astype('int')"
   ]
  },
  {
   "cell_type": "code",
   "execution_count": null,
   "metadata": {},
   "outputs": [],
   "source": [
    "df_nyse[df_nyse['Watchers'] >= 10000].shape"
   ]
  },
  {
   "cell_type": "code",
   "execution_count": null,
   "metadata": {},
   "outputs": [],
   "source": [
    "# df_nsdq\n",
    "df_nsdq[df_nsdq['Watchers'] >= 10000].shape"
   ]
  },
  {
   "cell_type": "code",
   "execution_count": null,
   "metadata": {},
   "outputs": [],
   "source": []
  }
 ],
 "metadata": {
  "kernelspec": {
   "display_name": "Python 3",
   "language": "python",
   "name": "python3"
  },
  "language_info": {
   "codemirror_mode": {
    "name": "ipython",
    "version": 3
   },
   "file_extension": ".py",
   "mimetype": "text/x-python",
   "name": "python",
   "nbconvert_exporter": "python",
   "pygments_lexer": "ipython3",
   "version": "3.7.3"
  }
 },
 "nbformat": 4,
 "nbformat_minor": 2
}
